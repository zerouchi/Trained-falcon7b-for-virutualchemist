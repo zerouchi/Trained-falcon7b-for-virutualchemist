{
 "cells": [
  {
   "cell_type": "code",
   "execution_count": 1,
   "metadata": {},
   "outputs": [],
   "source": [
    "import pandas as pd\n",
    "import numpy as np"
   ]
  },
  {
   "cell_type": "code",
   "execution_count": 2,
   "metadata": {},
   "outputs": [],
   "source": [
    "pharma_data = pd.read_csv(\"Task.csv\")"
   ]
  },
  {
   "cell_type": "code",
   "execution_count": 3,
   "metadata": {},
   "outputs": [
    {
     "data": {
      "text/html": [
       "<div>\n",
       "<style scoped>\n",
       "    .dataframe tbody tr th:only-of-type {\n",
       "        vertical-align: middle;\n",
       "    }\n",
       "\n",
       "    .dataframe tbody tr th {\n",
       "        vertical-align: top;\n",
       "    }\n",
       "\n",
       "    .dataframe thead th {\n",
       "        text-align: right;\n",
       "    }\n",
       "</style>\n",
       "<table border=\"1\" class=\"dataframe\">\n",
       "  <thead>\n",
       "    <tr style=\"text-align: right;\">\n",
       "      <th></th>\n",
       "      <th>Unnamed: 0</th>\n",
       "      <th>TEST DATASET</th>\n",
       "      <th>Unnamed: 1</th>\n",
       "    </tr>\n",
       "  </thead>\n",
       "  <tbody>\n",
       "    <tr>\n",
       "      <th>0</th>\n",
       "      <td>0</td>\n",
       "      <td>NaN</td>\n",
       "      <td>Introduction</td>\n",
       "    </tr>\n",
       "    <tr>\n",
       "      <th>1</th>\n",
       "      <td>1</td>\n",
       "      <td>NaN</td>\n",
       "      <td>Acnesol Gel is an antibiotic that fights bacte...</td>\n",
       "    </tr>\n",
       "    <tr>\n",
       "      <th>2</th>\n",
       "      <td>2</td>\n",
       "      <td>NaN</td>\n",
       "      <td>Ambrodil Syrup is used for treating various re...</td>\n",
       "    </tr>\n",
       "    <tr>\n",
       "      <th>3</th>\n",
       "      <td>3</td>\n",
       "      <td>NaN</td>\n",
       "      <td>Augmentin 625 Duo Tablet is a penicillin-type ...</td>\n",
       "    </tr>\n",
       "    <tr>\n",
       "      <th>4</th>\n",
       "      <td>4</td>\n",
       "      <td>NaN</td>\n",
       "      <td>Azithral 500 Tablet is an antibiotic used to t...</td>\n",
       "    </tr>\n",
       "  </tbody>\n",
       "</table>\n",
       "</div>"
      ],
      "text/plain": [
       "   Unnamed: 0  TEST DATASET                                         Unnamed: 1\n",
       "0           0           NaN                                       Introduction\n",
       "1           1           NaN  Acnesol Gel is an antibiotic that fights bacte...\n",
       "2           2           NaN  Ambrodil Syrup is used for treating various re...\n",
       "3           3           NaN  Augmentin 625 Duo Tablet is a penicillin-type ...\n",
       "4           4           NaN  Azithral 500 Tablet is an antibiotic used to t..."
      ]
     },
     "execution_count": 3,
     "metadata": {},
     "output_type": "execute_result"
    }
   ],
   "source": [
    "pharma_data.head()"
   ]
  },
  {
   "cell_type": "code",
   "execution_count": 4,
   "metadata": {},
   "outputs": [],
   "source": [
    "def split_and_extract_first_element(input_string):\n",
    "    # Split the string based on \" is\" or \" belong\"\n",
    "    split_list = input_string.split(\" is\") if \" is\" in input_string else input_string.split(\" belong\")\n",
    "\n",
    "    # Extract the first element of the resulting list\n",
    "    first_element = split_list[0].strip()\n",
    "\n",
    "    # Return the first element\n",
    "    return first_element\n",
    "\n",
    "# Example usage:\n"
   ]
  },
  {
   "cell_type": "code",
   "execution_count": 5,
   "metadata": {},
   "outputs": [],
   "source": [
    "med_name = []\n",
    "for i in range(len(pharma_data[\"Unnamed: 1\"])):\n",
    " med_name.append(split_and_extract_first_element(pharma_data[\"Unnamed: 1\"][i]))"
   ]
  },
  {
   "cell_type": "code",
   "execution_count": 6,
   "metadata": {},
   "outputs": [],
   "source": [
    "pharma_data[\"med_name\"] = med_name"
   ]
  },
  {
   "cell_type": "code",
   "execution_count": 7,
   "metadata": {},
   "outputs": [
    {
     "data": {
      "text/html": [
       "<div>\n",
       "<style scoped>\n",
       "    .dataframe tbody tr th:only-of-type {\n",
       "        vertical-align: middle;\n",
       "    }\n",
       "\n",
       "    .dataframe tbody tr th {\n",
       "        vertical-align: top;\n",
       "    }\n",
       "\n",
       "    .dataframe thead th {\n",
       "        text-align: right;\n",
       "    }\n",
       "</style>\n",
       "<table border=\"1\" class=\"dataframe\">\n",
       "  <thead>\n",
       "    <tr style=\"text-align: right;\">\n",
       "      <th></th>\n",
       "      <th>Unnamed: 0</th>\n",
       "      <th>TEST DATASET</th>\n",
       "      <th>Unnamed: 1</th>\n",
       "      <th>med_name</th>\n",
       "    </tr>\n",
       "  </thead>\n",
       "  <tbody>\n",
       "    <tr>\n",
       "      <th>0</th>\n",
       "      <td>0</td>\n",
       "      <td>NaN</td>\n",
       "      <td>Introduction</td>\n",
       "      <td>Introduction</td>\n",
       "    </tr>\n",
       "    <tr>\n",
       "      <th>1</th>\n",
       "      <td>1</td>\n",
       "      <td>NaN</td>\n",
       "      <td>Acnesol Gel is an antibiotic that fights bacte...</td>\n",
       "      <td>Acnesol Gel</td>\n",
       "    </tr>\n",
       "    <tr>\n",
       "      <th>2</th>\n",
       "      <td>2</td>\n",
       "      <td>NaN</td>\n",
       "      <td>Ambrodil Syrup is used for treating various re...</td>\n",
       "      <td>Ambrodil Syrup</td>\n",
       "    </tr>\n",
       "    <tr>\n",
       "      <th>3</th>\n",
       "      <td>3</td>\n",
       "      <td>NaN</td>\n",
       "      <td>Augmentin 625 Duo Tablet is a penicillin-type ...</td>\n",
       "      <td>Augmentin 625 Duo Tablet</td>\n",
       "    </tr>\n",
       "    <tr>\n",
       "      <th>4</th>\n",
       "      <td>4</td>\n",
       "      <td>NaN</td>\n",
       "      <td>Azithral 500 Tablet is an antibiotic used to t...</td>\n",
       "      <td>Azithral 500 Tablet</td>\n",
       "    </tr>\n",
       "  </tbody>\n",
       "</table>\n",
       "</div>"
      ],
      "text/plain": [
       "   Unnamed: 0  TEST DATASET  \\\n",
       "0           0           NaN   \n",
       "1           1           NaN   \n",
       "2           2           NaN   \n",
       "3           3           NaN   \n",
       "4           4           NaN   \n",
       "\n",
       "                                          Unnamed: 1                  med_name  \n",
       "0                                       Introduction              Introduction  \n",
       "1  Acnesol Gel is an antibiotic that fights bacte...               Acnesol Gel  \n",
       "2  Ambrodil Syrup is used for treating various re...            Ambrodil Syrup  \n",
       "3  Augmentin 625 Duo Tablet is a penicillin-type ...  Augmentin 625 Duo Tablet  \n",
       "4  Azithral 500 Tablet is an antibiotic used to t...       Azithral 500 Tablet  "
      ]
     },
     "execution_count": 7,
     "metadata": {},
     "output_type": "execute_result"
    }
   ],
   "source": [
    "pharma_data.head()"
   ]
  },
  {
   "cell_type": "code",
   "execution_count": 8,
   "metadata": {},
   "outputs": [],
   "source": [
    "pharma_data1 = pharma_data.drop(pharma_data.index[0:1])"
   ]
  },
  {
   "cell_type": "code",
   "execution_count": 9,
   "metadata": {},
   "outputs": [],
   "source": [
    "pharma_data2 = pharma_data1.drop([\"Unnamed: 0\",\"TEST DATASET\"],axis=1)"
   ]
  },
  {
   "cell_type": "code",
   "execution_count": 13,
   "metadata": {},
   "outputs": [],
   "source": [
    "pharma_data2.rename(columns={'Unnamed: 1': 'Usage'}, inplace=True)\n"
   ]
  },
  {
   "cell_type": "code",
   "execution_count": 14,
   "metadata": {},
   "outputs": [
    {
     "data": {
      "text/html": [
       "<div>\n",
       "<style scoped>\n",
       "    .dataframe tbody tr th:only-of-type {\n",
       "        vertical-align: middle;\n",
       "    }\n",
       "\n",
       "    .dataframe tbody tr th {\n",
       "        vertical-align: top;\n",
       "    }\n",
       "\n",
       "    .dataframe thead th {\n",
       "        text-align: right;\n",
       "    }\n",
       "</style>\n",
       "<table border=\"1\" class=\"dataframe\">\n",
       "  <thead>\n",
       "    <tr style=\"text-align: right;\">\n",
       "      <th></th>\n",
       "      <th>Usage</th>\n",
       "      <th>med_name</th>\n",
       "    </tr>\n",
       "  </thead>\n",
       "  <tbody>\n",
       "    <tr>\n",
       "      <th>1</th>\n",
       "      <td>Acnesol Gel is an antibiotic that fights bacte...</td>\n",
       "      <td>Acnesol Gel</td>\n",
       "    </tr>\n",
       "    <tr>\n",
       "      <th>2</th>\n",
       "      <td>Ambrodil Syrup is used for treating various re...</td>\n",
       "      <td>Ambrodil Syrup</td>\n",
       "    </tr>\n",
       "    <tr>\n",
       "      <th>3</th>\n",
       "      <td>Augmentin 625 Duo Tablet is a penicillin-type ...</td>\n",
       "      <td>Augmentin 625 Duo Tablet</td>\n",
       "    </tr>\n",
       "    <tr>\n",
       "      <th>4</th>\n",
       "      <td>Azithral 500 Tablet is an antibiotic used to t...</td>\n",
       "      <td>Azithral 500 Tablet</td>\n",
       "    </tr>\n",
       "    <tr>\n",
       "      <th>5</th>\n",
       "      <td>Alkasol Oral Solution is a medicine used in th...</td>\n",
       "      <td>Alkasol Oral Solution</td>\n",
       "    </tr>\n",
       "  </tbody>\n",
       "</table>\n",
       "</div>"
      ],
      "text/plain": [
       "                                               Usage                  med_name\n",
       "1  Acnesol Gel is an antibiotic that fights bacte...               Acnesol Gel\n",
       "2  Ambrodil Syrup is used for treating various re...            Ambrodil Syrup\n",
       "3  Augmentin 625 Duo Tablet is a penicillin-type ...  Augmentin 625 Duo Tablet\n",
       "4  Azithral 500 Tablet is an antibiotic used to t...       Azithral 500 Tablet\n",
       "5  Alkasol Oral Solution is a medicine used in th...     Alkasol Oral Solution"
      ]
     },
     "execution_count": 14,
     "metadata": {},
     "output_type": "execute_result"
    }
   ],
   "source": [
    "pharma_data2.head()"
   ]
  },
  {
   "cell_type": "code",
   "execution_count": null,
   "metadata": {},
   "outputs": [],
   "source": []
  }
 ],
 "metadata": {
  "kernelspec": {
   "display_name": "pharma",
   "language": "python",
   "name": "python3"
  },
  "language_info": {
   "codemirror_mode": {
    "name": "ipython",
    "version": 3
   },
   "file_extension": ".py",
   "mimetype": "text/x-python",
   "name": "python",
   "nbconvert_exporter": "python",
   "pygments_lexer": "ipython3",
   "version": "3.9.6"
  },
  "orig_nbformat": 4
 },
 "nbformat": 4,
 "nbformat_minor": 2
}
